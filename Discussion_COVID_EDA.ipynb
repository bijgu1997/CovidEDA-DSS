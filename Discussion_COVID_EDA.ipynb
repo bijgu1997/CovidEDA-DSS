{
 "cells": [
  {
   "cell_type": "markdown",
   "id": "08e9d851-d9f6-4258-b282-8d529cebd6e6",
   "metadata": {},
   "source": [
    "# Exploratory Data Analysis on COVID-19 in Malta\n",
    "\n",
    "## Overview\n",
    "\n",
    "COVID-19 has had a global impact in all aspects of our daily lives, be it in the way we work, communicate and entertain ourselves as well as in our daily habits with regards to health. In Malta, the first official cases of COVID-19 were recorded in March 2020. One of the first actions taken was the suspension of certain travel routes and eventually, a full closure of the national airport. \n",
    "\n",
    "This notebook will explore the timeline of COVID-19 in Malta in terms of the daily tests, vaccination and recorded cases. The monthly aggregated data will also be explored in-line with the monthly arrivals at the Malta International Airport (MIA) in Luqa. Thus, this notebook will attempt to address the hypothesis that airline travel has a direct impact on the daily amount of registered COVID-19 cases.\n"
   ]
  },
  {
   "cell_type": "markdown",
   "id": "6cb00791-e6b2-40e3-a2fb-a7657842c569",
   "metadata": {},
   "source": [
    "## Data Preparation\n",
    "\n",
    "For this analysis, two distinct data sources will be used. The first dataset contains COVID-19 data based in Malta and is maintained by the COVID-19 Public Health Response Team (Ministry for Health). The dataset is publicly available at https://github.com/COVID19-Malta/COVID19-Data and is split into numerous subsets. We will be considering the following for this analysis:\n",
    "\n",
    "1. Aggregate Data - Active Cases, Recoveries and Deaths\n",
    "2. Vaccination Data - Including dose number and boosters\n",
    "3. COVID Test Data - PCR and Rapid Antigen Tests\n",
    "\n",
    "The second dataset is maintained by Eurostat (https://ec.europa.eu/eurostat/databrowser/view/avia_par_mt/default/table?lang=en) and contains data about the airline travel between MIA and its partner airports. The dataset contains monthly, quarterly and annual aggregations as well as various measures based on passengers, seats or flights.\n",
    "\n",
    "Before performing Exploratory Data Analysis (EDA) on each dataset, a level of preprocessing is required. This involves importing, analysis and cleaning of the data as well as the merging of different datasets. To do so, we will be using Python as well as a number of libraries."
   ]
  },
  {
   "cell_type": "code",
   "execution_count": 1,
   "id": "356ecaac-5e51-4a13-90bb-95b5fc0d1d29",
   "metadata": {},
   "outputs": [],
   "source": [
    "# We import the required packages\n",
    "\n",
    "%matplotlib inline\n",
    "import numpy as np\n",
    "import pandas as pd\n",
    "import matplotlib.pyplot as plt\n",
    "import seaborn as sns"
   ]
  },
  {
   "cell_type": "markdown",
   "id": "a92be1ee-7a67-4def-aa89-4be240349332",
   "metadata": {},
   "source": [
    "### COVID-19 Datasets\n",
    "\n",
    "The first COVID-19 dataset is the aggregate dataset. To start off, we import the dataset and preview the first and last rows of the dataset as well as the columns' respective data types."
   ]
  },
  {
   "cell_type": "code",
   "execution_count": 2,
   "id": "380bedc1-84a1-4b5a-9f3a-2d8fda3d1b5c",
   "metadata": {},
   "outputs": [
    {
     "data": {
      "text/html": [
       "<div>\n",
       "<style scoped>\n",
       "    .dataframe tbody tr th:only-of-type {\n",
       "        vertical-align: middle;\n",
       "    }\n",
       "\n",
       "    .dataframe tbody tr th {\n",
       "        vertical-align: top;\n",
       "    }\n",
       "\n",
       "    .dataframe thead th {\n",
       "        text-align: right;\n",
       "    }\n",
       "</style>\n",
       "<table border=\"1\" class=\"dataframe\">\n",
       "  <thead>\n",
       "    <tr style=\"text-align: right;\">\n",
       "      <th></th>\n",
       "      <th>Date</th>\n",
       "      <th>New Cases</th>\n",
       "      <th>Total Cases</th>\n",
       "      <th>Recovered</th>\n",
       "      <th>Deaths</th>\n",
       "      <th>Active Cases</th>\n",
       "    </tr>\n",
       "  </thead>\n",
       "  <tbody>\n",
       "    <tr>\n",
       "      <th>1021</th>\n",
       "      <td>22/12/2022</td>\n",
       "      <td>19</td>\n",
       "      <td>116196</td>\n",
       "      <td>114725</td>\n",
       "      <td>812</td>\n",
       "      <td>263</td>\n",
       "    </tr>\n",
       "    <tr>\n",
       "      <th>1022</th>\n",
       "      <td>23/12/2022</td>\n",
       "      <td>16</td>\n",
       "      <td>116212</td>\n",
       "      <td>114737</td>\n",
       "      <td>813</td>\n",
       "      <td>266</td>\n",
       "    </tr>\n",
       "    <tr>\n",
       "      <th>1023</th>\n",
       "      <td>24/12/2022</td>\n",
       "      <td>19</td>\n",
       "      <td>116231</td>\n",
       "      <td>114746</td>\n",
       "      <td>813</td>\n",
       "      <td>276</td>\n",
       "    </tr>\n",
       "    <tr>\n",
       "      <th>1024</th>\n",
       "      <td>25/12/2022</td>\n",
       "      <td>16</td>\n",
       "      <td>116247</td>\n",
       "      <td>114763</td>\n",
       "      <td>813</td>\n",
       "      <td>275</td>\n",
       "    </tr>\n",
       "    <tr>\n",
       "      <th>1025</th>\n",
       "      <td>26/12/2022</td>\n",
       "      <td>6</td>\n",
       "      <td>116253</td>\n",
       "      <td>114773</td>\n",
       "      <td>813</td>\n",
       "      <td>271</td>\n",
       "    </tr>\n",
       "  </tbody>\n",
       "</table>\n",
       "</div>"
      ],
      "text/plain": [
       "            Date  New Cases  Total Cases  Recovered  Deaths  Active Cases\n",
       "1021  22/12/2022         19       116196     114725     812           263\n",
       "1022  23/12/2022         16       116212     114737     813           266\n",
       "1023  24/12/2022         19       116231     114746     813           276\n",
       "1024  25/12/2022         16       116247     114763     813           275\n",
       "1025  26/12/2022          6       116253     114773     813           271"
      ]
     },
     "execution_count": 2,
     "metadata": {},
     "output_type": "execute_result"
    }
   ],
   "source": [
    "df_covid_agg = pd.read_csv('./data/covid/COVID-19 Malta - Aggregate Data Set.csv')\n",
    "df_covid_agg.head() # the first few records\n",
    "df_covid_agg.tail() # the last records"
   ]
  },
  {
   "cell_type": "code",
   "execution_count": 3,
   "id": "345e21a0-c25c-435e-afc8-48f87573e1a1",
   "metadata": {},
   "outputs": [
    {
     "data": {
      "text/plain": [
       "Date            object\n",
       "New Cases        int64\n",
       "Total Cases      int64\n",
       "Recovered        int64\n",
       "Deaths           int64\n",
       "Active Cases     int64\n",
       "dtype: object"
      ]
     },
     "execution_count": 3,
     "metadata": {},
     "output_type": "execute_result"
    }
   ],
   "source": [
    "df_covid_agg.dtypes # the datatypes for each column"
   ]
  },
  {
   "cell_type": "code",
   "execution_count": 4,
   "id": "e8a66cb0-6afc-43dc-82f7-0a872f189bff",
   "metadata": {},
   "outputs": [
    {
     "data": {
      "text/plain": [
       "False"
      ]
     },
     "execution_count": 4,
     "metadata": {},
     "output_type": "execute_result"
    }
   ],
   "source": [
    "df_covid_agg.isnull().values.any() # checking for null values"
   ]
  },
  {
   "cell_type": "markdown",
   "id": "17e880da-3ad3-4265-ab19-1973360fc3c1",
   "metadata": {},
   "source": [
    "The aggregate dataset contains a daily summary of the active cases, recoveries and deaths. The dataset starts from the 06/03/2020 and the data of retrieval i.e. 26/12/2022. The number of days between the first and last date is 1026 days. Therefore, the dataset is expected to have 1026 unique dates or rows."
   ]
  },
  {
   "cell_type": "code",
   "execution_count": 5,
   "id": "dc810b82-17ef-41a4-a26b-b0f1f52db045",
   "metadata": {},
   "outputs": [
    {
     "data": {
      "text/plain": [
       "(1026, 6)"
      ]
     },
     "execution_count": 5,
     "metadata": {},
     "output_type": "execute_result"
    }
   ],
   "source": [
    "df_covid_agg.shape # checking the dataframe dimensions (row x column)"
   ]
  },
  {
   "cell_type": "markdown",
   "id": "93caf417-4e35-4988-b4e0-6cd181458a3f",
   "metadata": {},
   "source": [
    "While there are 1026 rows, a check must also be done for duplicate dates. This can be done by using the 'duplicated' method on the 'Date' column."
   ]
  },
  {
   "cell_type": "code",
   "execution_count": 6,
   "id": "9292ec2d-d090-4d64-953f-983fb793c637",
   "metadata": {},
   "outputs": [
    {
     "data": {
      "text/html": [
       "<div>\n",
       "<style scoped>\n",
       "    .dataframe tbody tr th:only-of-type {\n",
       "        vertical-align: middle;\n",
       "    }\n",
       "\n",
       "    .dataframe tbody tr th {\n",
       "        vertical-align: top;\n",
       "    }\n",
       "\n",
       "    .dataframe thead th {\n",
       "        text-align: right;\n",
       "    }\n",
       "</style>\n",
       "<table border=\"1\" class=\"dataframe\">\n",
       "  <thead>\n",
       "    <tr style=\"text-align: right;\">\n",
       "      <th></th>\n",
       "      <th>Date</th>\n",
       "      <th>New Cases</th>\n",
       "      <th>Total Cases</th>\n",
       "      <th>Recovered</th>\n",
       "      <th>Deaths</th>\n",
       "      <th>Active Cases</th>\n",
       "      <th>dup_date</th>\n",
       "    </tr>\n",
       "  </thead>\n",
       "  <tbody>\n",
       "    <tr>\n",
       "      <th>1000</th>\n",
       "      <td>01/11/2022</td>\n",
       "      <td>21</td>\n",
       "      <td>115839</td>\n",
       "      <td>114444</td>\n",
       "      <td>809</td>\n",
       "      <td>190</td>\n",
       "      <td>True</td>\n",
       "    </tr>\n",
       "  </tbody>\n",
       "</table>\n",
       "</div>"
      ],
      "text/plain": [
       "            Date  New Cases  Total Cases  Recovered  Deaths  Active Cases  \\\n",
       "1000  01/11/2022         21       115839     114444     809           190   \n",
       "\n",
       "      dup_date  \n",
       "1000      True  "
      ]
     },
     "execution_count": 6,
     "metadata": {},
     "output_type": "execute_result"
    }
   ],
   "source": [
    "df_covid_agg['dup_date'] = df_covid_agg.duplicated(subset=['Date'])\n",
    "agg_data_dupes = df_covid_agg.loc[df_covid_agg['dup_date'] == True]\n",
    "agg_data_dupes "
   ]
  },
  {
   "cell_type": "markdown",
   "id": "9be8866c-1025-4136-9bb0-fb6d1d12d9da",
   "metadata": {},
   "source": [
    "The row with index 1000 seems to be a duplicate. We can investigate further by checking a few rows before and after the duplicate entry."
   ]
  },
  {
   "cell_type": "code",
   "execution_count": 7,
   "id": "fca4ced0-d689-4907-8575-47bda4334cd3",
   "metadata": {},
   "outputs": [
    {
     "data": {
      "text/html": [
       "<div>\n",
       "<style scoped>\n",
       "    .dataframe tbody tr th:only-of-type {\n",
       "        vertical-align: middle;\n",
       "    }\n",
       "\n",
       "    .dataframe tbody tr th {\n",
       "        vertical-align: top;\n",
       "    }\n",
       "\n",
       "    .dataframe thead th {\n",
       "        text-align: right;\n",
       "    }\n",
       "</style>\n",
       "<table border=\"1\" class=\"dataframe\">\n",
       "  <thead>\n",
       "    <tr style=\"text-align: right;\">\n",
       "      <th></th>\n",
       "      <th>Date</th>\n",
       "      <th>New Cases</th>\n",
       "      <th>Total Cases</th>\n",
       "      <th>Recovered</th>\n",
       "      <th>Deaths</th>\n",
       "      <th>Active Cases</th>\n",
       "      <th>dup_date</th>\n",
       "    </tr>\n",
       "  </thead>\n",
       "  <tbody>\n",
       "    <tr>\n",
       "      <th>997</th>\n",
       "      <td>28/11/2022</td>\n",
       "      <td>6</td>\n",
       "      <td>115775</td>\n",
       "      <td>114399</td>\n",
       "      <td>809</td>\n",
       "      <td>171</td>\n",
       "      <td>False</td>\n",
       "    </tr>\n",
       "    <tr>\n",
       "      <th>998</th>\n",
       "      <td>29/11/2022</td>\n",
       "      <td>15</td>\n",
       "      <td>115790</td>\n",
       "      <td>114415</td>\n",
       "      <td>809</td>\n",
       "      <td>170</td>\n",
       "      <td>False</td>\n",
       "    </tr>\n",
       "    <tr>\n",
       "      <th>999</th>\n",
       "      <td>30/11/2022</td>\n",
       "      <td>28</td>\n",
       "      <td>115818</td>\n",
       "      <td>114433</td>\n",
       "      <td>809</td>\n",
       "      <td>180</td>\n",
       "      <td>False</td>\n",
       "    </tr>\n",
       "    <tr>\n",
       "      <th>1000</th>\n",
       "      <td>01/11/2022</td>\n",
       "      <td>21</td>\n",
       "      <td>115839</td>\n",
       "      <td>114444</td>\n",
       "      <td>809</td>\n",
       "      <td>190</td>\n",
       "      <td>True</td>\n",
       "    </tr>\n",
       "    <tr>\n",
       "      <th>1001</th>\n",
       "      <td>02/12/2022</td>\n",
       "      <td>12</td>\n",
       "      <td>115851</td>\n",
       "      <td>114468</td>\n",
       "      <td>809</td>\n",
       "      <td>178</td>\n",
       "      <td>False</td>\n",
       "    </tr>\n",
       "    <tr>\n",
       "      <th>1002</th>\n",
       "      <td>03/12/2022</td>\n",
       "      <td>6</td>\n",
       "      <td>115857</td>\n",
       "      <td>114479</td>\n",
       "      <td>809</td>\n",
       "      <td>173</td>\n",
       "      <td>False</td>\n",
       "    </tr>\n",
       "    <tr>\n",
       "      <th>1003</th>\n",
       "      <td>04/12/2022</td>\n",
       "      <td>13</td>\n",
       "      <td>115870</td>\n",
       "      <td>114487</td>\n",
       "      <td>809</td>\n",
       "      <td>178</td>\n",
       "      <td>False</td>\n",
       "    </tr>\n",
       "  </tbody>\n",
       "</table>\n",
       "</div>"
      ],
      "text/plain": [
       "            Date  New Cases  Total Cases  Recovered  Deaths  Active Cases  \\\n",
       "997   28/11/2022          6       115775     114399     809           171   \n",
       "998   29/11/2022         15       115790     114415     809           170   \n",
       "999   30/11/2022         28       115818     114433     809           180   \n",
       "1000  01/11/2022         21       115839     114444     809           190   \n",
       "1001  02/12/2022         12       115851     114468     809           178   \n",
       "1002  03/12/2022          6       115857     114479     809           173   \n",
       "1003  04/12/2022         13       115870     114487     809           178   \n",
       "\n",
       "      dup_date  \n",
       "997      False  \n",
       "998      False  \n",
       "999      False  \n",
       "1000      True  \n",
       "1001     False  \n",
       "1002     False  \n",
       "1003     False  "
      ]
     },
     "execution_count": 7,
     "metadata": {},
     "output_type": "execute_result"
    }
   ],
   "source": [
    "df_covid_agg.iloc[997:1004] # getting row indices from 997 to 1004"
   ]
  },
  {
   "cell_type": "markdown",
   "id": "d92958f1-4b52-4805-a12b-11aa28fc6b8c",
   "metadata": {},
   "source": [
    "It seems as if the date is wrongly set as 01/11/2022 instead if 01/12/2022. This can be amended manually after converting to the datetime format."
   ]
  },
  {
   "cell_type": "markdown",
   "id": "f0348f7e-145c-4143-ab14-a931b44dafcd",
   "metadata": {},
   "source": [
    "The final step is to convert the 'Date' column into the datetime data type. This will be helpful when plotting or grouping data."
   ]
  },
  {
   "cell_type": "code",
   "execution_count": 8,
   "id": "825036e2-6388-4f83-9def-6c2b211c303a",
   "metadata": {},
   "outputs": [
    {
     "data": {
      "text/html": [
       "<div>\n",
       "<style scoped>\n",
       "    .dataframe tbody tr th:only-of-type {\n",
       "        vertical-align: middle;\n",
       "    }\n",
       "\n",
       "    .dataframe tbody tr th {\n",
       "        vertical-align: top;\n",
       "    }\n",
       "\n",
       "    .dataframe thead th {\n",
       "        text-align: right;\n",
       "    }\n",
       "</style>\n",
       "<table border=\"1\" class=\"dataframe\">\n",
       "  <thead>\n",
       "    <tr style=\"text-align: right;\">\n",
       "      <th></th>\n",
       "      <th>date</th>\n",
       "      <th>new_cases</th>\n",
       "      <th>total_cases</th>\n",
       "      <th>recovered</th>\n",
       "      <th>deaths</th>\n",
       "      <th>active_cases</th>\n",
       "    </tr>\n",
       "  </thead>\n",
       "  <tbody>\n",
       "    <tr>\n",
       "      <th>997</th>\n",
       "      <td>2022-11-28</td>\n",
       "      <td>6</td>\n",
       "      <td>115775</td>\n",
       "      <td>114399</td>\n",
       "      <td>809</td>\n",
       "      <td>171</td>\n",
       "    </tr>\n",
       "    <tr>\n",
       "      <th>998</th>\n",
       "      <td>2022-11-29</td>\n",
       "      <td>15</td>\n",
       "      <td>115790</td>\n",
       "      <td>114415</td>\n",
       "      <td>809</td>\n",
       "      <td>170</td>\n",
       "    </tr>\n",
       "    <tr>\n",
       "      <th>999</th>\n",
       "      <td>2022-11-30</td>\n",
       "      <td>28</td>\n",
       "      <td>115818</td>\n",
       "      <td>114433</td>\n",
       "      <td>809</td>\n",
       "      <td>180</td>\n",
       "    </tr>\n",
       "    <tr>\n",
       "      <th>1000</th>\n",
       "      <td>2022-12-01</td>\n",
       "      <td>21</td>\n",
       "      <td>115839</td>\n",
       "      <td>114444</td>\n",
       "      <td>809</td>\n",
       "      <td>190</td>\n",
       "    </tr>\n",
       "    <tr>\n",
       "      <th>1001</th>\n",
       "      <td>2022-12-02</td>\n",
       "      <td>12</td>\n",
       "      <td>115851</td>\n",
       "      <td>114468</td>\n",
       "      <td>809</td>\n",
       "      <td>178</td>\n",
       "    </tr>\n",
       "    <tr>\n",
       "      <th>1002</th>\n",
       "      <td>2022-12-03</td>\n",
       "      <td>6</td>\n",
       "      <td>115857</td>\n",
       "      <td>114479</td>\n",
       "      <td>809</td>\n",
       "      <td>173</td>\n",
       "    </tr>\n",
       "    <tr>\n",
       "      <th>1003</th>\n",
       "      <td>2022-12-04</td>\n",
       "      <td>13</td>\n",
       "      <td>115870</td>\n",
       "      <td>114487</td>\n",
       "      <td>809</td>\n",
       "      <td>178</td>\n",
       "    </tr>\n",
       "  </tbody>\n",
       "</table>\n",
       "</div>"
      ],
      "text/plain": [
       "           date  new_cases  total_cases  recovered  deaths  active_cases\n",
       "997  2022-11-28          6       115775     114399     809           171\n",
       "998  2022-11-29         15       115790     114415     809           170\n",
       "999  2022-11-30         28       115818     114433     809           180\n",
       "1000 2022-12-01         21       115839     114444     809           190\n",
       "1001 2022-12-02         12       115851     114468     809           178\n",
       "1002 2022-12-03          6       115857     114479     809           173\n",
       "1003 2022-12-04         13       115870     114487     809           178"
      ]
     },
     "execution_count": 8,
     "metadata": {},
     "output_type": "execute_result"
    }
   ],
   "source": [
    "df_covid_agg = df_covid_agg.drop('dup_date', axis=1) # drop the extra column\n",
    "df_covid_agg.columns = ['date','new_cases','total_cases','recovered','deaths','active_cases'] # set the column names\n",
    "df_covid_agg['date'] = pd.to_datetime(df_covid_agg['date'],format=\"%d/%m/%Y\") # convert to datetime from 'dd/mm/yyyy' format\n",
    "df_covid_agg.iat[1000,0] = pd.to_datetime('01/12/2022',format=\"%d/%m/%Y\")\n",
    "df_covid_agg.iloc[997:1004]\n",
    "# df_covid_agg.head()\n"
   ]
  },
  {
   "cell_type": "markdown",
   "id": "ba0efc65-df8a-4903-a2cf-9a4e2095c913",
   "metadata": {},
   "source": [
    "The second COVID-19 dataset is the vaccination dataset. After importing the data, we can preview the dataset and the column datatypes."
   ]
  },
  {
   "cell_type": "code",
   "execution_count": 9,
   "id": "50208dcf-a123-441e-a815-244d71a4f41e",
   "metadata": {},
   "outputs": [
    {
     "data": {
      "text/html": [
       "<div>\n",
       "<style scoped>\n",
       "    .dataframe tbody tr th:only-of-type {\n",
       "        vertical-align: middle;\n",
       "    }\n",
       "\n",
       "    .dataframe tbody tr th {\n",
       "        vertical-align: top;\n",
       "    }\n",
       "\n",
       "    .dataframe thead th {\n",
       "        text-align: right;\n",
       "    }\n",
       "</style>\n",
       "<table border=\"1\" class=\"dataframe\">\n",
       "  <thead>\n",
       "    <tr style=\"text-align: right;\">\n",
       "      <th></th>\n",
       "      <th>Date of Vaccination</th>\n",
       "      <th>Total Vaccination Doses</th>\n",
       "      <th>Primary Vaccination</th>\n",
       "      <th>Received one dose</th>\n",
       "      <th>Total Booster doses</th>\n",
       "      <th>Total 2nd Booster doses</th>\n",
       "      <th>Omicron booster doses</th>\n",
       "      <th>Total Omicron booster doses</th>\n",
       "    </tr>\n",
       "  </thead>\n",
       "  <tbody>\n",
       "    <tr>\n",
       "      <th>0</th>\n",
       "      <td>17/01/2021</td>\n",
       "      <td>11705</td>\n",
       "      <td>NaN</td>\n",
       "      <td>NaN</td>\n",
       "      <td>NaN</td>\n",
       "      <td>NaN</td>\n",
       "      <td>NaN</td>\n",
       "      <td>NaN</td>\n",
       "    </tr>\n",
       "    <tr>\n",
       "      <th>1</th>\n",
       "      <td>18/01/2021</td>\n",
       "      <td>13002</td>\n",
       "      <td>NaN</td>\n",
       "      <td>NaN</td>\n",
       "      <td>NaN</td>\n",
       "      <td>NaN</td>\n",
       "      <td>NaN</td>\n",
       "      <td>NaN</td>\n",
       "    </tr>\n",
       "    <tr>\n",
       "      <th>2</th>\n",
       "      <td>19/01/2021</td>\n",
       "      <td>14276</td>\n",
       "      <td>NaN</td>\n",
       "      <td>NaN</td>\n",
       "      <td>NaN</td>\n",
       "      <td>NaN</td>\n",
       "      <td>NaN</td>\n",
       "      <td>NaN</td>\n",
       "    </tr>\n",
       "    <tr>\n",
       "      <th>3</th>\n",
       "      <td>20/01/2021</td>\n",
       "      <td>15316</td>\n",
       "      <td>NaN</td>\n",
       "      <td>NaN</td>\n",
       "      <td>NaN</td>\n",
       "      <td>NaN</td>\n",
       "      <td>NaN</td>\n",
       "      <td>NaN</td>\n",
       "    </tr>\n",
       "    <tr>\n",
       "      <th>4</th>\n",
       "      <td>21/01/2021</td>\n",
       "      <td>16531</td>\n",
       "      <td>NaN</td>\n",
       "      <td>NaN</td>\n",
       "      <td>NaN</td>\n",
       "      <td>NaN</td>\n",
       "      <td>NaN</td>\n",
       "      <td>NaN</td>\n",
       "    </tr>\n",
       "  </tbody>\n",
       "</table>\n",
       "</div>"
      ],
      "text/plain": [
       "  Date of Vaccination Total Vaccination Doses  Primary Vaccination  \\\n",
       "0          17/01/2021                   11705                  NaN   \n",
       "1          18/01/2021                   13002                  NaN   \n",
       "2          19/01/2021                   14276                  NaN   \n",
       "3          20/01/2021                   15316                  NaN   \n",
       "4          21/01/2021                   16531                  NaN   \n",
       "\n",
       "  Received one dose Total Booster doses Total 2nd Booster doses  \\\n",
       "0               NaN                 NaN                     NaN   \n",
       "1               NaN                 NaN                     NaN   \n",
       "2               NaN                 NaN                     NaN   \n",
       "3               NaN                 NaN                     NaN   \n",
       "4               NaN                 NaN                     NaN   \n",
       "\n",
       "   Omicron booster doses  Total Omicron booster doses  \n",
       "0                    NaN                          NaN  \n",
       "1                    NaN                          NaN  \n",
       "2                    NaN                          NaN  \n",
       "3                    NaN                          NaN  \n",
       "4                    NaN                          NaN  "
      ]
     },
     "execution_count": 9,
     "metadata": {},
     "output_type": "execute_result"
    }
   ],
   "source": [
    "df_covid_vacc = pd.read_csv('./data/covid/COVID-19 Malta - Vaccination Data.csv')\n",
    "df_covid_vacc.head()"
   ]
  },
  {
   "cell_type": "code",
   "execution_count": 10,
   "id": "00e88c13-5f20-4c77-b5c3-f7bd1f9d6565",
   "metadata": {},
   "outputs": [
    {
     "data": {
      "text/plain": [
       "Date of Vaccination             object\n",
       "Total Vaccination Doses         object\n",
       "Primary Vaccination            float64\n",
       "Received one dose               object\n",
       "Total Booster doses             object\n",
       "Total 2nd Booster doses         object\n",
       "Omicron booster doses          float64\n",
       "Total Omicron booster doses    float64\n",
       "dtype: object"
      ]
     },
     "execution_count": 10,
     "metadata": {},
     "output_type": "execute_result"
    }
   ],
   "source": [
    "df_covid_vacc.dtypes"
   ]
  },
  {
   "cell_type": "code",
   "execution_count": 11,
   "id": "1b40206c-6141-4da1-a0c6-ea6ddf98cd07",
   "metadata": {},
   "outputs": [
    {
     "data": {
      "text/plain": [
       "True"
      ]
     },
     "execution_count": 11,
     "metadata": {},
     "output_type": "execute_result"
    }
   ],
   "source": [
    "df_covid_vacc.isnull().values.any()"
   ]
  },
  {
   "cell_type": "markdown",
   "id": "aaaf91aa-20b7-48ad-87f2-6e6f9d950dba",
   "metadata": {},
   "source": [
    "The vaccination dataset contains daily counts of the total vaccinations as well as the vaccinations by subset (primary dose, booster dose, Omicron booster etc.). At first glance, the dataset seems to have mixed datatypes for values which are definitely integers. There are also NaN values which can be replaced by 0s. Similar to the aggregate dataset, a check is performed for duplicate dates."
   ]
  },
  {
   "cell_type": "code",
   "execution_count": 12,
   "id": "f609450c-0111-499f-a2ed-7c3421a707f6",
   "metadata": {},
   "outputs": [
    {
     "data": {
      "text/plain": [
       "(708, 8)"
      ]
     },
     "execution_count": 12,
     "metadata": {},
     "output_type": "execute_result"
    }
   ],
   "source": [
    "df_covid_vacc.shape # 708 rows/days are expected between the first (17/01/2021) and last (26/12/2022) records of this dataset"
   ]
  },
  {
   "cell_type": "code",
   "execution_count": 13,
   "id": "c9175a8f-0340-4f64-9b93-c18400d94fd4",
   "metadata": {},
   "outputs": [
    {
     "data": {
      "text/html": [
       "<div>\n",
       "<style scoped>\n",
       "    .dataframe tbody tr th:only-of-type {\n",
       "        vertical-align: middle;\n",
       "    }\n",
       "\n",
       "    .dataframe tbody tr th {\n",
       "        vertical-align: top;\n",
       "    }\n",
       "\n",
       "    .dataframe thead th {\n",
       "        text-align: right;\n",
       "    }\n",
       "</style>\n",
       "<table border=\"1\" class=\"dataframe\">\n",
       "  <thead>\n",
       "    <tr style=\"text-align: right;\">\n",
       "      <th></th>\n",
       "      <th>Date of Vaccination</th>\n",
       "      <th>Total Vaccination Doses</th>\n",
       "      <th>Primary Vaccination</th>\n",
       "      <th>Received one dose</th>\n",
       "      <th>Total Booster doses</th>\n",
       "      <th>Total 2nd Booster doses</th>\n",
       "      <th>Omicron booster doses</th>\n",
       "      <th>Total Omicron booster doses</th>\n",
       "      <th>dup_date</th>\n",
       "    </tr>\n",
       "  </thead>\n",
       "  <tbody>\n",
       "    <tr>\n",
       "      <th>683</th>\n",
       "      <td>01/11/2022</td>\n",
       "      <td>1372894</td>\n",
       "      <td>471220.0</td>\n",
       "      <td>478417</td>\n",
       "      <td>361240</td>\n",
       "      <td>73771</td>\n",
       "      <td>238.0</td>\n",
       "      <td>22627.0</td>\n",
       "      <td>True</td>\n",
       "    </tr>\n",
       "  </tbody>\n",
       "</table>\n",
       "</div>"
      ],
      "text/plain": [
       "    Date of Vaccination Total Vaccination Doses  Primary Vaccination  \\\n",
       "683          01/11/2022                 1372894             471220.0   \n",
       "\n",
       "    Received one dose Total Booster doses Total 2nd Booster doses  \\\n",
       "683            478417              361240                   73771   \n",
       "\n",
       "     Omicron booster doses  Total Omicron booster doses  dup_date  \n",
       "683                  238.0                      22627.0      True  "
      ]
     },
     "execution_count": 13,
     "metadata": {},
     "output_type": "execute_result"
    }
   ],
   "source": [
    "df_covid_vacc['dup_date'] = df_covid_vacc.duplicated(subset=['Date of Vaccination'])\n",
    "vacc_data_dupes = df_covid_vacc.loc[df_covid_vacc['dup_date'] == True]\n",
    "vacc_data_dupes"
   ]
  },
  {
   "cell_type": "markdown",
   "id": "8975bfd6-25e3-4404-b7c9-672a6656adee",
   "metadata": {},
   "source": [
    "The same date as the aggregate dataset seems to have been misentered. This record will be manually amended as in the previous case."
   ]
  },
  {
   "cell_type": "markdown",
   "id": "9c2da983-aa1c-47ca-9bb3-0ed1a3965623",
   "metadata": {},
   "source": [
    "The column names will be changed for simplicity and to be in line between all the datasets. The 'date' column will be converted to a datetime format."
   ]
  },
  {
   "cell_type": "code",
   "execution_count": 14,
   "id": "019c52b3-a177-44f9-9d10-31f20908cba2",
   "metadata": {},
   "outputs": [],
   "source": [
    "df_covid_vacc = df_covid_vacc.drop('dup_date', axis=1) # drop the extra column\n",
    "df_covid_vacc.columns = ['date','total_doses','primary_vacc','one_dose','total_booster_1','total_booster_2','daily_booster_omicron','total_booster_omicron']\n",
    "df_covid_vacc['date'] = pd.to_datetime(df_covid_vacc['date'],format=\"%d/%m/%Y\") # convert to datetime from 'dd/mm/yyyy' format\n",
    "df_covid_vacc.iat[683,0] = pd.to_datetime('01/12/2022',format=\"%d/%m/%Y\")"
   ]
  },
  {
   "cell_type": "code",
   "execution_count": 15,
   "id": "ab63f0da-bff7-4cd9-92d4-81017a612847",
   "metadata": {},
   "outputs": [
    {
     "data": {
      "text/html": [
       "<div>\n",
       "<style scoped>\n",
       "    .dataframe tbody tr th:only-of-type {\n",
       "        vertical-align: middle;\n",
       "    }\n",
       "\n",
       "    .dataframe tbody tr th {\n",
       "        vertical-align: top;\n",
       "    }\n",
       "\n",
       "    .dataframe thead th {\n",
       "        text-align: right;\n",
       "    }\n",
       "</style>\n",
       "<table border=\"1\" class=\"dataframe\">\n",
       "  <thead>\n",
       "    <tr style=\"text-align: right;\">\n",
       "      <th></th>\n",
       "      <th>date</th>\n",
       "      <th>total_doses</th>\n",
       "      <th>primary_vacc</th>\n",
       "      <th>one_dose</th>\n",
       "      <th>total_booster_1</th>\n",
       "      <th>total_booster_2</th>\n",
       "      <th>daily_booster_omicron</th>\n",
       "      <th>total_booster_omicron</th>\n",
       "    </tr>\n",
       "  </thead>\n",
       "  <tbody>\n",
       "    <tr>\n",
       "      <th>680</th>\n",
       "      <td>2022-11-28</td>\n",
       "      <td>1371855</td>\n",
       "      <td>471208.0</td>\n",
       "      <td>478404</td>\n",
       "      <td>361213</td>\n",
       "      <td>73351</td>\n",
       "      <td>228.0</td>\n",
       "      <td>22060.0</td>\n",
       "    </tr>\n",
       "    <tr>\n",
       "      <th>681</th>\n",
       "      <td>2022-11-29</td>\n",
       "      <td>1372092</td>\n",
       "      <td>471208.0</td>\n",
       "      <td>478404</td>\n",
       "      <td>361219</td>\n",
       "      <td>73464</td>\n",
       "      <td>118.0</td>\n",
       "      <td>22178.0</td>\n",
       "    </tr>\n",
       "    <tr>\n",
       "      <th>682</th>\n",
       "      <td>2022-11-30</td>\n",
       "      <td>1372447</td>\n",
       "      <td>471219.0</td>\n",
       "      <td>478417</td>\n",
       "      <td>361231</td>\n",
       "      <td>73597</td>\n",
       "      <td>163.0</td>\n",
       "      <td>22364.0</td>\n",
       "    </tr>\n",
       "    <tr>\n",
       "      <th>683</th>\n",
       "      <td>2022-12-01</td>\n",
       "      <td>1372894</td>\n",
       "      <td>471220.0</td>\n",
       "      <td>478417</td>\n",
       "      <td>361240</td>\n",
       "      <td>73771</td>\n",
       "      <td>238.0</td>\n",
       "      <td>22627.0</td>\n",
       "    </tr>\n",
       "    <tr>\n",
       "      <th>684</th>\n",
       "      <td>2022-12-02</td>\n",
       "      <td>1373248</td>\n",
       "      <td>471233.0</td>\n",
       "      <td>478434</td>\n",
       "      <td>361254</td>\n",
       "      <td>73899</td>\n",
       "      <td>164.0</td>\n",
       "      <td>22809.0</td>\n",
       "    </tr>\n",
       "    <tr>\n",
       "      <th>685</th>\n",
       "      <td>2022-12-03</td>\n",
       "      <td>1373294</td>\n",
       "      <td>471239.0</td>\n",
       "      <td>478442</td>\n",
       "      <td>361262</td>\n",
       "      <td>73916</td>\n",
       "      <td>7.0</td>\n",
       "      <td>22816.0</td>\n",
       "    </tr>\n",
       "  </tbody>\n",
       "</table>\n",
       "</div>"
      ],
      "text/plain": [
       "          date total_doses  primary_vacc one_dose total_booster_1  \\\n",
       "680 2022-11-28     1371855      471208.0   478404          361213   \n",
       "681 2022-11-29     1372092      471208.0   478404          361219   \n",
       "682 2022-11-30     1372447      471219.0   478417          361231   \n",
       "683 2022-12-01     1372894      471220.0   478417          361240   \n",
       "684 2022-12-02     1373248      471233.0   478434          361254   \n",
       "685 2022-12-03     1373294      471239.0   478442          361262   \n",
       "\n",
       "    total_booster_2  daily_booster_omicron  total_booster_omicron  \n",
       "680           73351                  228.0                22060.0  \n",
       "681           73464                  118.0                22178.0  \n",
       "682           73597                  163.0                22364.0  \n",
       "683           73771                  238.0                22627.0  \n",
       "684           73899                  164.0                22809.0  \n",
       "685           73916                    7.0                22816.0  "
      ]
     },
     "execution_count": 15,
     "metadata": {},
     "output_type": "execute_result"
    }
   ],
   "source": [
    "df_covid_vacc.iloc[680:686]"
   ]
  },
  {
   "cell_type": "code",
   "execution_count": 16,
   "id": "d10061ca-01cf-4177-8cb3-43cc0532dd75",
   "metadata": {},
   "outputs": [
    {
     "data": {
      "text/plain": [
       "date                     datetime64[ns]\n",
       "total_doses                      object\n",
       "primary_vacc                    float64\n",
       "one_dose                         object\n",
       "total_booster_1                  object\n",
       "total_booster_2                  object\n",
       "daily_booster_omicron           float64\n",
       "total_booster_omicron           float64\n",
       "dtype: object"
      ]
     },
     "execution_count": 16,
     "metadata": {},
     "output_type": "execute_result"
    }
   ],
   "source": [
    "df_covid_vacc.dtypes"
   ]
  },
  {
   "cell_type": "markdown",
   "id": "e5c7dc76-95ca-4e52-8c89-1b2daa67299a",
   "metadata": {},
   "source": [
    "Since the columns represent counts, all the columns can be converted to an integer data type, defaulting to NaN. Any NaN values can be changed to 0s."
   ]
  },
  {
   "cell_type": "code",
   "execution_count": 17,
   "id": "7d569f9d-3f31-4449-a5b0-315191e8c830",
   "metadata": {},
   "outputs": [
    {
     "data": {
      "text/plain": [
       "date                     datetime64[ns]\n",
       "total_doses                       int64\n",
       "primary_vacc                      int64\n",
       "one_dose                          int64\n",
       "total_booster_1                   int64\n",
       "total_booster_2                   int64\n",
       "daily_booster_omicron             int64\n",
       "total_booster_omicron             int64\n",
       "dtype: object"
      ]
     },
     "execution_count": 17,
     "metadata": {},
     "output_type": "execute_result"
    }
   ],
   "source": [
    "int_cols = [x for x in df_covid_vacc.columns if x != 'date'] # all the non-date columns\n",
    "df_covid_vacc[int_cols] = df_covid_vacc[int_cols].apply(pd.to_numeric, errors='coerce', downcast='integer') # convert to integer, defaulting to NaN if an error occurs\n",
    "df_covid_vacc.fillna(0,inplace=True, downcast='infer') # replace all NaN values with 0s\n",
    "df_covid_vacc.dtypes"
   ]
  },
  {
   "cell_type": "markdown",
   "id": "beb29b3f-bbf3-4bf1-baf9-c999bd8b6e1a",
   "metadata": {},
   "source": [
    "The third and last COVID-19 dataset is the testing dataset. As per the previous datasets, we can load it and preview the data."
   ]
  },
  {
   "cell_type": "code",
   "execution_count": 18,
   "id": "5be3de7c-387e-478b-af3e-e4c82af8df4c",
   "metadata": {},
   "outputs": [
    {
     "data": {
      "text/html": [
       "<div>\n",
       "<style scoped>\n",
       "    .dataframe tbody tr th:only-of-type {\n",
       "        vertical-align: middle;\n",
       "    }\n",
       "\n",
       "    .dataframe tbody tr th {\n",
       "        vertical-align: top;\n",
       "    }\n",
       "\n",
       "    .dataframe thead th {\n",
       "        text-align: right;\n",
       "    }\n",
       "</style>\n",
       "<table border=\"1\" class=\"dataframe\">\n",
       "  <thead>\n",
       "    <tr style=\"text-align: right;\">\n",
       "      <th></th>\n",
       "      <th>Publication date</th>\n",
       "      <th>NAA tests in previous day</th>\n",
       "      <th>Total NAA tests</th>\n",
       "      <th>Rapid antigen tests in previous day</th>\n",
       "      <th>Total rapid antigen tests</th>\n",
       "      <th>NAA and rapid antigen tests in previous day</th>\n",
       "      <th>Total NAA and rapid antigen tests</th>\n",
       "    </tr>\n",
       "  </thead>\n",
       "  <tbody>\n",
       "    <tr>\n",
       "      <th>0</th>\n",
       "      <td>20/07/2020</td>\n",
       "      <td>583</td>\n",
       "      <td>113820</td>\n",
       "      <td>NaN</td>\n",
       "      <td>NaN</td>\n",
       "      <td>583</td>\n",
       "      <td>113820</td>\n",
       "    </tr>\n",
       "    <tr>\n",
       "      <th>1</th>\n",
       "      <td>21/07/2020</td>\n",
       "      <td>959</td>\n",
       "      <td>114779</td>\n",
       "      <td>NaN</td>\n",
       "      <td>NaN</td>\n",
       "      <td>959</td>\n",
       "      <td>114779</td>\n",
       "    </tr>\n",
       "    <tr>\n",
       "      <th>2</th>\n",
       "      <td>22/07/2020</td>\n",
       "      <td>1016</td>\n",
       "      <td>115795</td>\n",
       "      <td>NaN</td>\n",
       "      <td>NaN</td>\n",
       "      <td>1016</td>\n",
       "      <td>115795</td>\n",
       "    </tr>\n",
       "    <tr>\n",
       "      <th>3</th>\n",
       "      <td>23/07/2020</td>\n",
       "      <td>1114</td>\n",
       "      <td>116909</td>\n",
       "      <td>NaN</td>\n",
       "      <td>NaN</td>\n",
       "      <td>1114</td>\n",
       "      <td>116909</td>\n",
       "    </tr>\n",
       "    <tr>\n",
       "      <th>4</th>\n",
       "      <td>24/07/2020</td>\n",
       "      <td>931</td>\n",
       "      <td>117840</td>\n",
       "      <td>NaN</td>\n",
       "      <td>NaN</td>\n",
       "      <td>931</td>\n",
       "      <td>117840</td>\n",
       "    </tr>\n",
       "    <tr>\n",
       "      <th>5</th>\n",
       "      <td>25/07/2020</td>\n",
       "      <td>1085</td>\n",
       "      <td>118925</td>\n",
       "      <td>NaN</td>\n",
       "      <td>NaN</td>\n",
       "      <td>1085</td>\n",
       "      <td>118925</td>\n",
       "    </tr>\n",
       "    <tr>\n",
       "      <th>6</th>\n",
       "      <td>26/07/2020</td>\n",
       "      <td>1220</td>\n",
       "      <td>120145</td>\n",
       "      <td>NaN</td>\n",
       "      <td>NaN</td>\n",
       "      <td>1220</td>\n",
       "      <td>120145</td>\n",
       "    </tr>\n",
       "    <tr>\n",
       "      <th>7</th>\n",
       "      <td>27/07/2020</td>\n",
       "      <td>850</td>\n",
       "      <td>120995</td>\n",
       "      <td>NaN</td>\n",
       "      <td>NaN</td>\n",
       "      <td>850</td>\n",
       "      <td>120995</td>\n",
       "    </tr>\n",
       "    <tr>\n",
       "      <th>8</th>\n",
       "      <td>28/07/2020</td>\n",
       "      <td>1353</td>\n",
       "      <td>122348</td>\n",
       "      <td>NaN</td>\n",
       "      <td>NaN</td>\n",
       "      <td>1353</td>\n",
       "      <td>122348</td>\n",
       "    </tr>\n",
       "    <tr>\n",
       "      <th>9</th>\n",
       "      <td>29/07/2020</td>\n",
       "      <td>1615</td>\n",
       "      <td>123963</td>\n",
       "      <td>NaN</td>\n",
       "      <td>NaN</td>\n",
       "      <td>1615</td>\n",
       "      <td>123963</td>\n",
       "    </tr>\n",
       "  </tbody>\n",
       "</table>\n",
       "</div>"
      ],
      "text/plain": [
       "  Publication date  NAA tests in previous day  Total NAA tests  \\\n",
       "0       20/07/2020                        583           113820   \n",
       "1       21/07/2020                        959           114779   \n",
       "2       22/07/2020                       1016           115795   \n",
       "3       23/07/2020                       1114           116909   \n",
       "4       24/07/2020                        931           117840   \n",
       "5       25/07/2020                       1085           118925   \n",
       "6       26/07/2020                       1220           120145   \n",
       "7       27/07/2020                        850           120995   \n",
       "8       28/07/2020                       1353           122348   \n",
       "9       29/07/2020                       1615           123963   \n",
       "\n",
       "   Rapid antigen tests in previous day  Total rapid antigen tests  \\\n",
       "0                                  NaN                        NaN   \n",
       "1                                  NaN                        NaN   \n",
       "2                                  NaN                        NaN   \n",
       "3                                  NaN                        NaN   \n",
       "4                                  NaN                        NaN   \n",
       "5                                  NaN                        NaN   \n",
       "6                                  NaN                        NaN   \n",
       "7                                  NaN                        NaN   \n",
       "8                                  NaN                        NaN   \n",
       "9                                  NaN                        NaN   \n",
       "\n",
       "   NAA and rapid antigen tests in previous day  \\\n",
       "0                                          583   \n",
       "1                                          959   \n",
       "2                                         1016   \n",
       "3                                         1114   \n",
       "4                                          931   \n",
       "5                                         1085   \n",
       "6                                         1220   \n",
       "7                                          850   \n",
       "8                                         1353   \n",
       "9                                         1615   \n",
       "\n",
       "   Total NAA and rapid antigen tests  \n",
       "0                             113820  \n",
       "1                             114779  \n",
       "2                             115795  \n",
       "3                             116909  \n",
       "4                             117840  \n",
       "5                             118925  \n",
       "6                             120145  \n",
       "7                             120995  \n",
       "8                             122348  \n",
       "9                             123963  "
      ]
     },
     "execution_count": 18,
     "metadata": {},
     "output_type": "execute_result"
    }
   ],
   "source": [
    "df_covid_tests = pd.read_csv('./data/covid/COVID-19 Malta - COVID Tests.csv')\n",
    "df_covid_tests.head(10)"
   ]
  },
  {
   "cell_type": "code",
   "execution_count": 19,
   "id": "a1388ecf-0e2e-42e0-acea-6c7e8fed4c3c",
   "metadata": {},
   "outputs": [
    {
     "data": {
      "text/plain": [
       "Publication date                                object\n",
       "NAA tests in previous day                        int64\n",
       "Total NAA tests                                  int64\n",
       "Rapid antigen tests in previous day            float64\n",
       "Total rapid antigen tests                      float64\n",
       "NAA and rapid antigen tests in previous day      int64\n",
       "Total NAA and rapid antigen tests                int64\n",
       "dtype: object"
      ]
     },
     "execution_count": 19,
     "metadata": {},
     "output_type": "execute_result"
    }
   ],
   "source": [
    "df_covid_tests.dtypes"
   ]
  },
  {
   "cell_type": "markdown",
   "id": "b1c0c139-2e88-43d9-8cec-90507ea26a51",
   "metadata": {},
   "source": [
    "The testing dataset contains daily data on tests performed in the previous day, grouped by the test type (NAA/PCR or Rapid Antigen) as well as the cumulative sum of tests to date. From the datatypes, the same preprocessing done to the vaccination dataset is required to convert the 'date' column to datetime and the rest of the columns to integers. \n",
    "\n",
    "Another note is that the individual previous day tests (NAA, rapid antigen) do not always add up to the value in the combined NAA and rapid antigen tests for the previous day. "
   ]
  },
  {
   "cell_type": "markdown",
   "id": "fa410bb5-a26b-46af-8c39-641526955f1b",
   "metadata": {},
   "source": [
    "As a duplicate date entry for 01/12/2022 was detected in the previous datasets, the same check will be done for the testing dataset."
   ]
  },
  {
   "cell_type": "code",
   "execution_count": 20,
   "id": "6d91ca66-1949-415e-bbdb-573d15351152",
   "metadata": {},
   "outputs": [
    {
     "data": {
      "text/plain": [
       "(890, 7)"
      ]
     },
     "execution_count": 20,
     "metadata": {},
     "output_type": "execute_result"
    }
   ],
   "source": [
    "df_covid_tests.shape # 890 rows/days are expected between the first (20/07/2020) and last (26/12/2022) records of this dataset"
   ]
  },
  {
   "cell_type": "code",
   "execution_count": 21,
   "id": "8a18eb5b-7bdc-416f-898d-1a7ce49627cd",
   "metadata": {},
   "outputs": [
    {
     "data": {
      "text/html": [
       "<div>\n",
       "<style scoped>\n",
       "    .dataframe tbody tr th:only-of-type {\n",
       "        vertical-align: middle;\n",
       "    }\n",
       "\n",
       "    .dataframe tbody tr th {\n",
       "        vertical-align: top;\n",
       "    }\n",
       "\n",
       "    .dataframe thead th {\n",
       "        text-align: right;\n",
       "    }\n",
       "</style>\n",
       "<table border=\"1\" class=\"dataframe\">\n",
       "  <thead>\n",
       "    <tr style=\"text-align: right;\">\n",
       "      <th></th>\n",
       "      <th>Publication date</th>\n",
       "      <th>NAA tests in previous day</th>\n",
       "      <th>Total NAA tests</th>\n",
       "      <th>Rapid antigen tests in previous day</th>\n",
       "      <th>Total rapid antigen tests</th>\n",
       "      <th>NAA and rapid antigen tests in previous day</th>\n",
       "      <th>Total NAA and rapid antigen tests</th>\n",
       "      <th>dup_date</th>\n",
       "    </tr>\n",
       "  </thead>\n",
       "  <tbody>\n",
       "  </tbody>\n",
       "</table>\n",
       "</div>"
      ],
      "text/plain": [
       "Empty DataFrame\n",
       "Columns: [Publication date, NAA tests in previous day, Total NAA tests, Rapid antigen tests in previous day, Total rapid antigen tests, NAA and rapid antigen tests in previous day, Total NAA and rapid antigen tests, dup_date]\n",
       "Index: []"
      ]
     },
     "execution_count": 21,
     "metadata": {},
     "output_type": "execute_result"
    }
   ],
   "source": [
    "df_covid_tests['dup_date'] = df_covid_tests.duplicated(subset=['Publication date'])\n",
    "test_data_dupes = df_covid_tests.loc[df_covid_tests['dup_date'] == True]\n",
    "test_data_dupes"
   ]
  },
  {
   "cell_type": "markdown",
   "id": "f7ce4672-9ba7-4791-9b4c-82bf1aaf4ad6",
   "metadata": {},
   "source": [
    "In this case, there were no duplicates and thus the date can be transformed to datetime without prior amendments."
   ]
  },
  {
   "cell_type": "code",
   "execution_count": 22,
   "id": "68a0f5d9-88f4-4880-b0b5-1266afe8c050",
   "metadata": {},
   "outputs": [],
   "source": [
    "df_covid_tests = df_covid_tests.drop('dup_date', axis=1) # drop the extra column\n",
    "df_covid_tests.columns = ['date','daily_pcr','total_pcr','daily_rapid','total_rapid','total_daily_tests','total_tests']\n",
    "df_covid_tests['date'] = pd.to_datetime(df_covid_tests['date'],format=\"%d/%m/%Y\") # convert to datetime from 'dd/mm/yyyy' format"
   ]
  },
  {
   "cell_type": "markdown",
   "id": "89a5d3fc-c3d8-4a4a-94bf-dc982ce6340d",
   "metadata": {},
   "source": [
    "Once again, the rest of the columns are counts and can be converted to integers."
   ]
  },
  {
   "cell_type": "code",
   "execution_count": 23,
   "id": "9aa70034-6436-4430-aa87-f7c50ac1008f",
   "metadata": {},
   "outputs": [
    {
     "data": {
      "text/plain": [
       "date                 datetime64[ns]\n",
       "daily_pcr                     int16\n",
       "total_pcr                     int32\n",
       "daily_rapid                   int64\n",
       "total_rapid                   int64\n",
       "total_daily_tests             int16\n",
       "total_tests                   int32\n",
       "dtype: object"
      ]
     },
     "execution_count": 23,
     "metadata": {},
     "output_type": "execute_result"
    }
   ],
   "source": [
    "int_cols = [x for x in df_covid_tests.columns if x != 'date'] # all the non-date columns\n",
    "df_covid_tests[int_cols] = df_covid_tests[int_cols].apply(pd.to_numeric, errors='coerce', downcast='integer') # convert to integer, defaulting to NaN if an error occurs\n",
    "df_covid_tests.fillna(0,inplace=True, downcast='infer') # replace all NaN values with 0s\n",
    "df_covid_tests.dtypes"
   ]
  },
  {
   "cell_type": "code",
   "execution_count": 24,
   "id": "50fa5096-29be-4a16-a9fc-9c3669a4c295",
   "metadata": {},
   "outputs": [
    {
     "data": {
      "text/html": [
       "<div>\n",
       "<style scoped>\n",
       "    .dataframe tbody tr th:only-of-type {\n",
       "        vertical-align: middle;\n",
       "    }\n",
       "\n",
       "    .dataframe tbody tr th {\n",
       "        vertical-align: top;\n",
       "    }\n",
       "\n",
       "    .dataframe thead th {\n",
       "        text-align: right;\n",
       "    }\n",
       "</style>\n",
       "<table border=\"1\" class=\"dataframe\">\n",
       "  <thead>\n",
       "    <tr style=\"text-align: right;\">\n",
       "      <th></th>\n",
       "      <th>date</th>\n",
       "      <th>daily_pcr</th>\n",
       "      <th>total_pcr</th>\n",
       "      <th>daily_rapid</th>\n",
       "      <th>total_rapid</th>\n",
       "      <th>total_daily_tests</th>\n",
       "      <th>total_tests</th>\n",
       "    </tr>\n",
       "  </thead>\n",
       "  <tbody>\n",
       "    <tr>\n",
       "      <th>885</th>\n",
       "      <td>2022-12-22</td>\n",
       "      <td>250</td>\n",
       "      <td>1550990</td>\n",
       "      <td>126</td>\n",
       "      <td>546240</td>\n",
       "      <td>406</td>\n",
       "      <td>2097230</td>\n",
       "    </tr>\n",
       "    <tr>\n",
       "      <th>886</th>\n",
       "      <td>2022-12-23</td>\n",
       "      <td>177</td>\n",
       "      <td>1551167</td>\n",
       "      <td>56</td>\n",
       "      <td>546296</td>\n",
       "      <td>233</td>\n",
       "      <td>2097463</td>\n",
       "    </tr>\n",
       "    <tr>\n",
       "      <th>887</th>\n",
       "      <td>2022-12-24</td>\n",
       "      <td>148</td>\n",
       "      <td>1551319</td>\n",
       "      <td>78</td>\n",
       "      <td>546374</td>\n",
       "      <td>230</td>\n",
       "      <td>2097693</td>\n",
       "    </tr>\n",
       "    <tr>\n",
       "      <th>888</th>\n",
       "      <td>2022-12-25</td>\n",
       "      <td>150</td>\n",
       "      <td>1551471</td>\n",
       "      <td>78</td>\n",
       "      <td>546452</td>\n",
       "      <td>230</td>\n",
       "      <td>2097923</td>\n",
       "    </tr>\n",
       "    <tr>\n",
       "      <th>889</th>\n",
       "      <td>2022-12-26</td>\n",
       "      <td>134</td>\n",
       "      <td>1551605</td>\n",
       "      <td>18</td>\n",
       "      <td>546470</td>\n",
       "      <td>152</td>\n",
       "      <td>2098075</td>\n",
       "    </tr>\n",
       "  </tbody>\n",
       "</table>\n",
       "</div>"
      ],
      "text/plain": [
       "          date  daily_pcr  total_pcr  daily_rapid  total_rapid  \\\n",
       "885 2022-12-22        250    1550990          126       546240   \n",
       "886 2022-12-23        177    1551167           56       546296   \n",
       "887 2022-12-24        148    1551319           78       546374   \n",
       "888 2022-12-25        150    1551471           78       546452   \n",
       "889 2022-12-26        134    1551605           18       546470   \n",
       "\n",
       "     total_daily_tests  total_tests  \n",
       "885                406      2097230  \n",
       "886                233      2097463  \n",
       "887                230      2097693  \n",
       "888                230      2097923  \n",
       "889                152      2098075  "
      ]
     },
     "execution_count": 24,
     "metadata": {},
     "output_type": "execute_result"
    }
   ],
   "source": [
    "df_covid_tests.tail()"
   ]
  },
  {
   "cell_type": "markdown",
   "id": "299063e2-3172-4bca-a46d-9b1726485e2a",
   "metadata": {},
   "source": [
    "### Flights Dataset\n",
    "Apart from the COVID-19 datasets, we will also be exploring the daily flights arriving at the MIA up til June 2022. The dataset contains several units of measure and we must filter the dataset such that we only retain the information which is useful to us. The metadata for this dataset is available on Eurostat's website."
   ]
  },
  {
   "cell_type": "code",
   "execution_count": 25,
   "id": "c0b84767-5457-425d-81dc-fa57ca70572b",
   "metadata": {},
   "outputs": [
    {
     "data": {
      "text/html": [
       "<div>\n",
       "<style scoped>\n",
       "    .dataframe tbody tr th:only-of-type {\n",
       "        vertical-align: middle;\n",
       "    }\n",
       "\n",
       "    .dataframe tbody tr th {\n",
       "        vertical-align: top;\n",
       "    }\n",
       "\n",
       "    .dataframe thead th {\n",
       "        text-align: right;\n",
       "    }\n",
       "</style>\n",
       "<table border=\"1\" class=\"dataframe\">\n",
       "  <thead>\n",
       "    <tr style=\"text-align: right;\">\n",
       "      <th></th>\n",
       "      <th>DATAFLOW</th>\n",
       "      <th>LAST UPDATE</th>\n",
       "      <th>freq</th>\n",
       "      <th>unit</th>\n",
       "      <th>tra_meas</th>\n",
       "      <th>airp_pr</th>\n",
       "      <th>TIME_PERIOD</th>\n",
       "      <th>OBS_VALUE</th>\n",
       "      <th>OBS_FLAG</th>\n",
       "    </tr>\n",
       "  </thead>\n",
       "  <tbody>\n",
       "    <tr>\n",
       "      <th>0</th>\n",
       "      <td>ESTAT:AVIA_PAR_MT(1.0)</td>\n",
       "      <td>16/09/22 23:00:00</td>\n",
       "      <td>A</td>\n",
       "      <td>FLIGHT</td>\n",
       "      <td>CAF_PAS</td>\n",
       "      <td>MT_LMML_AE_OMDB</td>\n",
       "      <td>2019</td>\n",
       "      <td>937</td>\n",
       "      <td>NaN</td>\n",
       "    </tr>\n",
       "    <tr>\n",
       "      <th>1</th>\n",
       "      <td>ESTAT:AVIA_PAR_MT(1.0)</td>\n",
       "      <td>16/09/22 23:00:00</td>\n",
       "      <td>A</td>\n",
       "      <td>FLIGHT</td>\n",
       "      <td>CAF_PAS</td>\n",
       "      <td>MT_LMML_AT_LO99</td>\n",
       "      <td>2005</td>\n",
       "      <td>614</td>\n",
       "      <td>NaN</td>\n",
       "    </tr>\n",
       "    <tr>\n",
       "      <th>2</th>\n",
       "      <td>ESTAT:AVIA_PAR_MT(1.0)</td>\n",
       "      <td>16/09/22 23:00:00</td>\n",
       "      <td>A</td>\n",
       "      <td>FLIGHT</td>\n",
       "      <td>CAF_PAS</td>\n",
       "      <td>MT_LMML_AT_LO99</td>\n",
       "      <td>2006</td>\n",
       "      <td>546</td>\n",
       "      <td>NaN</td>\n",
       "    </tr>\n",
       "    <tr>\n",
       "      <th>3</th>\n",
       "      <td>ESTAT:AVIA_PAR_MT(1.0)</td>\n",
       "      <td>16/09/22 23:00:00</td>\n",
       "      <td>A</td>\n",
       "      <td>FLIGHT</td>\n",
       "      <td>CAF_PAS</td>\n",
       "      <td>MT_LMML_AT_LO99</td>\n",
       "      <td>2009</td>\n",
       "      <td>548</td>\n",
       "      <td>NaN</td>\n",
       "    </tr>\n",
       "    <tr>\n",
       "      <th>4</th>\n",
       "      <td>ESTAT:AVIA_PAR_MT(1.0)</td>\n",
       "      <td>16/09/22 23:00:00</td>\n",
       "      <td>A</td>\n",
       "      <td>FLIGHT</td>\n",
       "      <td>CAF_PAS</td>\n",
       "      <td>MT_LMML_AT_LO99</td>\n",
       "      <td>2010</td>\n",
       "      <td>492</td>\n",
       "      <td>NaN</td>\n",
       "    </tr>\n",
       "    <tr>\n",
       "      <th>5</th>\n",
       "      <td>ESTAT:AVIA_PAR_MT(1.0)</td>\n",
       "      <td>16/09/22 23:00:00</td>\n",
       "      <td>A</td>\n",
       "      <td>FLIGHT</td>\n",
       "      <td>CAF_PAS</td>\n",
       "      <td>MT_LMML_AT_LOWW</td>\n",
       "      <td>2001</td>\n",
       "      <td>520</td>\n",
       "      <td>NaN</td>\n",
       "    </tr>\n",
       "    <tr>\n",
       "      <th>6</th>\n",
       "      <td>ESTAT:AVIA_PAR_MT(1.0)</td>\n",
       "      <td>16/09/22 23:00:00</td>\n",
       "      <td>A</td>\n",
       "      <td>FLIGHT</td>\n",
       "      <td>CAF_PAS</td>\n",
       "      <td>MT_LMML_AT_LOWW</td>\n",
       "      <td>2002</td>\n",
       "      <td>505</td>\n",
       "      <td>NaN</td>\n",
       "    </tr>\n",
       "    <tr>\n",
       "      <th>7</th>\n",
       "      <td>ESTAT:AVIA_PAR_MT(1.0)</td>\n",
       "      <td>16/09/22 23:00:00</td>\n",
       "      <td>A</td>\n",
       "      <td>FLIGHT</td>\n",
       "      <td>CAF_PAS</td>\n",
       "      <td>MT_LMML_AT_LOWW</td>\n",
       "      <td>2003</td>\n",
       "      <td>601</td>\n",
       "      <td>NaN</td>\n",
       "    </tr>\n",
       "    <tr>\n",
       "      <th>8</th>\n",
       "      <td>ESTAT:AVIA_PAR_MT(1.0)</td>\n",
       "      <td>16/09/22 23:00:00</td>\n",
       "      <td>A</td>\n",
       "      <td>FLIGHT</td>\n",
       "      <td>CAF_PAS</td>\n",
       "      <td>MT_LMML_AT_LOWW</td>\n",
       "      <td>2004</td>\n",
       "      <td>606</td>\n",
       "      <td>NaN</td>\n",
       "    </tr>\n",
       "    <tr>\n",
       "      <th>9</th>\n",
       "      <td>ESTAT:AVIA_PAR_MT(1.0)</td>\n",
       "      <td>16/09/22 23:00:00</td>\n",
       "      <td>A</td>\n",
       "      <td>FLIGHT</td>\n",
       "      <td>CAF_PAS</td>\n",
       "      <td>MT_LMML_AT_LOWW</td>\n",
       "      <td>2007</td>\n",
       "      <td>521</td>\n",
       "      <td>NaN</td>\n",
       "    </tr>\n",
       "  </tbody>\n",
       "</table>\n",
       "</div>"
      ],
      "text/plain": [
       "                 DATAFLOW        LAST UPDATE freq    unit tra_meas  \\\n",
       "0  ESTAT:AVIA_PAR_MT(1.0)  16/09/22 23:00:00    A  FLIGHT  CAF_PAS   \n",
       "1  ESTAT:AVIA_PAR_MT(1.0)  16/09/22 23:00:00    A  FLIGHT  CAF_PAS   \n",
       "2  ESTAT:AVIA_PAR_MT(1.0)  16/09/22 23:00:00    A  FLIGHT  CAF_PAS   \n",
       "3  ESTAT:AVIA_PAR_MT(1.0)  16/09/22 23:00:00    A  FLIGHT  CAF_PAS   \n",
       "4  ESTAT:AVIA_PAR_MT(1.0)  16/09/22 23:00:00    A  FLIGHT  CAF_PAS   \n",
       "5  ESTAT:AVIA_PAR_MT(1.0)  16/09/22 23:00:00    A  FLIGHT  CAF_PAS   \n",
       "6  ESTAT:AVIA_PAR_MT(1.0)  16/09/22 23:00:00    A  FLIGHT  CAF_PAS   \n",
       "7  ESTAT:AVIA_PAR_MT(1.0)  16/09/22 23:00:00    A  FLIGHT  CAF_PAS   \n",
       "8  ESTAT:AVIA_PAR_MT(1.0)  16/09/22 23:00:00    A  FLIGHT  CAF_PAS   \n",
       "9  ESTAT:AVIA_PAR_MT(1.0)  16/09/22 23:00:00    A  FLIGHT  CAF_PAS   \n",
       "\n",
       "           airp_pr TIME_PERIOD  OBS_VALUE  OBS_FLAG  \n",
       "0  MT_LMML_AE_OMDB        2019        937       NaN  \n",
       "1  MT_LMML_AT_LO99        2005        614       NaN  \n",
       "2  MT_LMML_AT_LO99        2006        546       NaN  \n",
       "3  MT_LMML_AT_LO99        2009        548       NaN  \n",
       "4  MT_LMML_AT_LO99        2010        492       NaN  \n",
       "5  MT_LMML_AT_LOWW        2001        520       NaN  \n",
       "6  MT_LMML_AT_LOWW        2002        505       NaN  \n",
       "7  MT_LMML_AT_LOWW        2003        601       NaN  \n",
       "8  MT_LMML_AT_LOWW        2004        606       NaN  \n",
       "9  MT_LMML_AT_LOWW        2007        521       NaN  "
      ]
     },
     "execution_count": 25,
     "metadata": {},
     "output_type": "execute_result"
    }
   ],
   "source": [
    "df_flights = pd.read_csv('./data/flights/estat_avia_par_mt_en.csv')\n",
    "df_flights.head(10)"
   ]
  },
  {
   "cell_type": "code",
   "execution_count": 26,
   "id": "fc3700cb-103a-46bf-9c78-9d0109c6e3f6",
   "metadata": {},
   "outputs": [
    {
     "data": {
      "text/plain": [
       "DATAFLOW        object\n",
       "LAST UPDATE     object\n",
       "freq            object\n",
       "unit            object\n",
       "tra_meas        object\n",
       "airp_pr         object\n",
       "TIME_PERIOD     object\n",
       "OBS_VALUE        int64\n",
       "OBS_FLAG       float64\n",
       "dtype: object"
      ]
     },
     "execution_count": 26,
     "metadata": {},
     "output_type": "execute_result"
    }
   ],
   "source": [
    "df_flights.dtypes"
   ]
  },
  {
   "cell_type": "markdown",
   "id": "f6b2ffb3-5b22-4da0-967b-5cc4cd283186",
   "metadata": {},
   "source": [
    "A a brief summary of the columns from the metadata can be found below:\n",
    "\n",
    "- DATAFLOW: The name of the dataset\n",
    "- LAST UPDATE: The date of the last update\n",
    "- freq: the time frequency; A (annual), Q (quarterly) or M (monthly)\n",
    "- unit: the unit of measurement; PAS (passengers), SEAT (seats and berths), FLIGHT (flights)\n",
    "- tra_meas: traffic and transport measures; splits metrics by carried passengers, boarded passengers, arrivals and departures\n",
    "- airp-pr: the airport pair showing the route data\n",
    "- TIME_PERIOD: the time, with the format depending on the time frequency\n",
    "- OBS_VALUE: the observed counts\n",
    "- OBS_FLAG: true or false flag (unused in this dataset)"
   ]
  },
  {
   "cell_type": "markdown",
   "id": "1d535701-df80-4a73-808d-2094f31acdcd",
   "metadata": {},
   "source": [
    "Since our COVID datasets are daily in frequency, it makes sense to consider the highest frequency available for this dataset which is the monthly frequency. Furthermore, the most important metric for our analysis are arriving passengers as we don't care about empty seats or departing passengers. Thus, we will filter our dataset on the above criteria:"
   ]
  },
  {
   "cell_type": "code",
   "execution_count": 27,
   "id": "9171f131-b4a1-488f-ae11-ea4360741f53",
   "metadata": {},
   "outputs": [
    {
     "data": {
      "text/html": [
       "<div>\n",
       "<style scoped>\n",
       "    .dataframe tbody tr th:only-of-type {\n",
       "        vertical-align: middle;\n",
       "    }\n",
       "\n",
       "    .dataframe tbody tr th {\n",
       "        vertical-align: top;\n",
       "    }\n",
       "\n",
       "    .dataframe thead th {\n",
       "        text-align: right;\n",
       "    }\n",
       "</style>\n",
       "<table border=\"1\" class=\"dataframe\">\n",
       "  <thead>\n",
       "    <tr style=\"text-align: right;\">\n",
       "      <th></th>\n",
       "      <th>DATAFLOW</th>\n",
       "      <th>LAST UPDATE</th>\n",
       "      <th>freq</th>\n",
       "      <th>unit</th>\n",
       "      <th>tra_meas</th>\n",
       "      <th>airp_pr</th>\n",
       "      <th>TIME_PERIOD</th>\n",
       "      <th>OBS_VALUE</th>\n",
       "      <th>OBS_FLAG</th>\n",
       "    </tr>\n",
       "  </thead>\n",
       "  <tbody>\n",
       "    <tr>\n",
       "      <th>69053</th>\n",
       "      <td>ESTAT:AVIA_PAR_MT(1.0)</td>\n",
       "      <td>16/09/22 23:00:00</td>\n",
       "      <td>M</td>\n",
       "      <td>PAS</td>\n",
       "      <td>PAS_CRD_ARR</td>\n",
       "      <td>MT_LMML_AE_OMDB</td>\n",
       "      <td>2022-01</td>\n",
       "      <td>1779</td>\n",
       "      <td>NaN</td>\n",
       "    </tr>\n",
       "    <tr>\n",
       "      <th>69054</th>\n",
       "      <td>ESTAT:AVIA_PAR_MT(1.0)</td>\n",
       "      <td>16/09/22 23:00:00</td>\n",
       "      <td>M</td>\n",
       "      <td>PAS</td>\n",
       "      <td>PAS_CRD_ARR</td>\n",
       "      <td>MT_LMML_AE_OMDB</td>\n",
       "      <td>2022-02</td>\n",
       "      <td>1775</td>\n",
       "      <td>NaN</td>\n",
       "    </tr>\n",
       "    <tr>\n",
       "      <th>69055</th>\n",
       "      <td>ESTAT:AVIA_PAR_MT(1.0)</td>\n",
       "      <td>16/09/22 23:00:00</td>\n",
       "      <td>M</td>\n",
       "      <td>PAS</td>\n",
       "      <td>PAS_CRD_ARR</td>\n",
       "      <td>MT_LMML_AE_OMDB</td>\n",
       "      <td>2022-03</td>\n",
       "      <td>2528</td>\n",
       "      <td>NaN</td>\n",
       "    </tr>\n",
       "    <tr>\n",
       "      <th>69056</th>\n",
       "      <td>ESTAT:AVIA_PAR_MT(1.0)</td>\n",
       "      <td>16/09/22 23:00:00</td>\n",
       "      <td>M</td>\n",
       "      <td>PAS</td>\n",
       "      <td>PAS_CRD_ARR</td>\n",
       "      <td>MT_LMML_AE_OMDB</td>\n",
       "      <td>2022-04</td>\n",
       "      <td>2612</td>\n",
       "      <td>NaN</td>\n",
       "    </tr>\n",
       "    <tr>\n",
       "      <th>69057</th>\n",
       "      <td>ESTAT:AVIA_PAR_MT(1.0)</td>\n",
       "      <td>16/09/22 23:00:00</td>\n",
       "      <td>M</td>\n",
       "      <td>PAS</td>\n",
       "      <td>PAS_CRD_ARR</td>\n",
       "      <td>MT_LMML_AE_OMDB</td>\n",
       "      <td>2022-05</td>\n",
       "      <td>2380</td>\n",
       "      <td>NaN</td>\n",
       "    </tr>\n",
       "    <tr>\n",
       "      <th>...</th>\n",
       "      <td>...</td>\n",
       "      <td>...</td>\n",
       "      <td>...</td>\n",
       "      <td>...</td>\n",
       "      <td>...</td>\n",
       "      <td>...</td>\n",
       "      <td>...</td>\n",
       "      <td>...</td>\n",
       "      <td>...</td>\n",
       "    </tr>\n",
       "    <tr>\n",
       "      <th>77494</th>\n",
       "      <td>ESTAT:AVIA_PAR_MT(1.0)</td>\n",
       "      <td>16/09/22 23:00:00</td>\n",
       "      <td>M</td>\n",
       "      <td>PAS</td>\n",
       "      <td>PAS_CRD_ARR</td>\n",
       "      <td>MT_LMML_UK_EGSS</td>\n",
       "      <td>2022-02</td>\n",
       "      <td>1630</td>\n",
       "      <td>NaN</td>\n",
       "    </tr>\n",
       "    <tr>\n",
       "      <th>77495</th>\n",
       "      <td>ESTAT:AVIA_PAR_MT(1.0)</td>\n",
       "      <td>16/09/22 23:00:00</td>\n",
       "      <td>M</td>\n",
       "      <td>PAS</td>\n",
       "      <td>PAS_CRD_ARR</td>\n",
       "      <td>MT_LMML_UK_EGSS</td>\n",
       "      <td>2022-03</td>\n",
       "      <td>2800</td>\n",
       "      <td>NaN</td>\n",
       "    </tr>\n",
       "    <tr>\n",
       "      <th>77496</th>\n",
       "      <td>ESTAT:AVIA_PAR_MT(1.0)</td>\n",
       "      <td>16/09/22 23:00:00</td>\n",
       "      <td>M</td>\n",
       "      <td>PAS</td>\n",
       "      <td>PAS_CRD_ARR</td>\n",
       "      <td>MT_LMML_UK_EGSS</td>\n",
       "      <td>2022-04</td>\n",
       "      <td>5369</td>\n",
       "      <td>NaN</td>\n",
       "    </tr>\n",
       "    <tr>\n",
       "      <th>77497</th>\n",
       "      <td>ESTAT:AVIA_PAR_MT(1.0)</td>\n",
       "      <td>16/09/22 23:00:00</td>\n",
       "      <td>M</td>\n",
       "      <td>PAS</td>\n",
       "      <td>PAS_CRD_ARR</td>\n",
       "      <td>MT_LMML_UK_EGSS</td>\n",
       "      <td>2022-05</td>\n",
       "      <td>6374</td>\n",
       "      <td>NaN</td>\n",
       "    </tr>\n",
       "    <tr>\n",
       "      <th>77498</th>\n",
       "      <td>ESTAT:AVIA_PAR_MT(1.0)</td>\n",
       "      <td>16/09/22 23:00:00</td>\n",
       "      <td>M</td>\n",
       "      <td>PAS</td>\n",
       "      <td>PAS_CRD_ARR</td>\n",
       "      <td>MT_LMML_UK_EGSS</td>\n",
       "      <td>2022-06</td>\n",
       "      <td>5743</td>\n",
       "      <td>NaN</td>\n",
       "    </tr>\n",
       "  </tbody>\n",
       "</table>\n",
       "<p>902 rows × 9 columns</p>\n",
       "</div>"
      ],
      "text/plain": [
       "                     DATAFLOW        LAST UPDATE freq unit     tra_meas  \\\n",
       "69053  ESTAT:AVIA_PAR_MT(1.0)  16/09/22 23:00:00    M  PAS  PAS_CRD_ARR   \n",
       "69054  ESTAT:AVIA_PAR_MT(1.0)  16/09/22 23:00:00    M  PAS  PAS_CRD_ARR   \n",
       "69055  ESTAT:AVIA_PAR_MT(1.0)  16/09/22 23:00:00    M  PAS  PAS_CRD_ARR   \n",
       "69056  ESTAT:AVIA_PAR_MT(1.0)  16/09/22 23:00:00    M  PAS  PAS_CRD_ARR   \n",
       "69057  ESTAT:AVIA_PAR_MT(1.0)  16/09/22 23:00:00    M  PAS  PAS_CRD_ARR   \n",
       "...                       ...                ...  ...  ...          ...   \n",
       "77494  ESTAT:AVIA_PAR_MT(1.0)  16/09/22 23:00:00    M  PAS  PAS_CRD_ARR   \n",
       "77495  ESTAT:AVIA_PAR_MT(1.0)  16/09/22 23:00:00    M  PAS  PAS_CRD_ARR   \n",
       "77496  ESTAT:AVIA_PAR_MT(1.0)  16/09/22 23:00:00    M  PAS  PAS_CRD_ARR   \n",
       "77497  ESTAT:AVIA_PAR_MT(1.0)  16/09/22 23:00:00    M  PAS  PAS_CRD_ARR   \n",
       "77498  ESTAT:AVIA_PAR_MT(1.0)  16/09/22 23:00:00    M  PAS  PAS_CRD_ARR   \n",
       "\n",
       "               airp_pr TIME_PERIOD  OBS_VALUE  OBS_FLAG  \n",
       "69053  MT_LMML_AE_OMDB     2022-01       1779       NaN  \n",
       "69054  MT_LMML_AE_OMDB     2022-02       1775       NaN  \n",
       "69055  MT_LMML_AE_OMDB     2022-03       2528       NaN  \n",
       "69056  MT_LMML_AE_OMDB     2022-04       2612       NaN  \n",
       "69057  MT_LMML_AE_OMDB     2022-05       2380       NaN  \n",
       "...                ...         ...        ...       ...  \n",
       "77494  MT_LMML_UK_EGSS     2022-02       1630       NaN  \n",
       "77495  MT_LMML_UK_EGSS     2022-03       2800       NaN  \n",
       "77496  MT_LMML_UK_EGSS     2022-04       5369       NaN  \n",
       "77497  MT_LMML_UK_EGSS     2022-05       6374       NaN  \n",
       "77498  MT_LMML_UK_EGSS     2022-06       5743       NaN  \n",
       "\n",
       "[902 rows x 9 columns]"
      ]
     },
     "execution_count": 27,
     "metadata": {},
     "output_type": "execute_result"
    }
   ],
   "source": [
    "df_flights_monthly = df_flights.query(\"freq == 'M' and unit == 'PAS' and tra_meas == 'PAS_CRD_ARR'\") # filter by monthly frequency, passengers as the unit of measure and filter by arrivals\n",
    "df_flights_monthly = df_flights_monthly[df_flights_monthly.TIME_PERIOD.str.startswith('202')] # check from 2020 onwards to be inline with the COVID-19 dates\n",
    "df_flights_monthly"
   ]
  },
  {
   "cell_type": "markdown",
   "id": "c295dbdc-c4a5-4bd6-a1cb-84913755b6b3",
   "metadata": {},
   "source": [
    "We can drop the unused columns and rename the rest of the columns accordingly."
   ]
  },
  {
   "cell_type": "code",
   "execution_count": 28,
   "id": "4c567e70-e22d-463d-a8c0-9f6802f32bfc",
   "metadata": {},
   "outputs": [
    {
     "data": {
      "text/html": [
       "<div>\n",
       "<style scoped>\n",
       "    .dataframe tbody tr th:only-of-type {\n",
       "        vertical-align: middle;\n",
       "    }\n",
       "\n",
       "    .dataframe tbody tr th {\n",
       "        vertical-align: top;\n",
       "    }\n",
       "\n",
       "    .dataframe thead th {\n",
       "        text-align: right;\n",
       "    }\n",
       "</style>\n",
       "<table border=\"1\" class=\"dataframe\">\n",
       "  <thead>\n",
       "    <tr style=\"text-align: right;\">\n",
       "      <th></th>\n",
       "      <th>airp_pr</th>\n",
       "      <th>TIME_PERIOD</th>\n",
       "      <th>OBS_VALUE</th>\n",
       "    </tr>\n",
       "  </thead>\n",
       "  <tbody>\n",
       "    <tr>\n",
       "      <th>69053</th>\n",
       "      <td>MT_LMML_AE_OMDB</td>\n",
       "      <td>2022-01</td>\n",
       "      <td>1779</td>\n",
       "    </tr>\n",
       "    <tr>\n",
       "      <th>69054</th>\n",
       "      <td>MT_LMML_AE_OMDB</td>\n",
       "      <td>2022-02</td>\n",
       "      <td>1775</td>\n",
       "    </tr>\n",
       "    <tr>\n",
       "      <th>69055</th>\n",
       "      <td>MT_LMML_AE_OMDB</td>\n",
       "      <td>2022-03</td>\n",
       "      <td>2528</td>\n",
       "    </tr>\n",
       "    <tr>\n",
       "      <th>69056</th>\n",
       "      <td>MT_LMML_AE_OMDB</td>\n",
       "      <td>2022-04</td>\n",
       "      <td>2612</td>\n",
       "    </tr>\n",
       "    <tr>\n",
       "      <th>69057</th>\n",
       "      <td>MT_LMML_AE_OMDB</td>\n",
       "      <td>2022-05</td>\n",
       "      <td>2380</td>\n",
       "    </tr>\n",
       "    <tr>\n",
       "      <th>...</th>\n",
       "      <td>...</td>\n",
       "      <td>...</td>\n",
       "      <td>...</td>\n",
       "    </tr>\n",
       "    <tr>\n",
       "      <th>77494</th>\n",
       "      <td>MT_LMML_UK_EGSS</td>\n",
       "      <td>2022-02</td>\n",
       "      <td>1630</td>\n",
       "    </tr>\n",
       "    <tr>\n",
       "      <th>77495</th>\n",
       "      <td>MT_LMML_UK_EGSS</td>\n",
       "      <td>2022-03</td>\n",
       "      <td>2800</td>\n",
       "    </tr>\n",
       "    <tr>\n",
       "      <th>77496</th>\n",
       "      <td>MT_LMML_UK_EGSS</td>\n",
       "      <td>2022-04</td>\n",
       "      <td>5369</td>\n",
       "    </tr>\n",
       "    <tr>\n",
       "      <th>77497</th>\n",
       "      <td>MT_LMML_UK_EGSS</td>\n",
       "      <td>2022-05</td>\n",
       "      <td>6374</td>\n",
       "    </tr>\n",
       "    <tr>\n",
       "      <th>77498</th>\n",
       "      <td>MT_LMML_UK_EGSS</td>\n",
       "      <td>2022-06</td>\n",
       "      <td>5743</td>\n",
       "    </tr>\n",
       "  </tbody>\n",
       "</table>\n",
       "<p>902 rows × 3 columns</p>\n",
       "</div>"
      ],
      "text/plain": [
       "               airp_pr TIME_PERIOD  OBS_VALUE\n",
       "69053  MT_LMML_AE_OMDB     2022-01       1779\n",
       "69054  MT_LMML_AE_OMDB     2022-02       1775\n",
       "69055  MT_LMML_AE_OMDB     2022-03       2528\n",
       "69056  MT_LMML_AE_OMDB     2022-04       2612\n",
       "69057  MT_LMML_AE_OMDB     2022-05       2380\n",
       "...                ...         ...        ...\n",
       "77494  MT_LMML_UK_EGSS     2022-02       1630\n",
       "77495  MT_LMML_UK_EGSS     2022-03       2800\n",
       "77496  MT_LMML_UK_EGSS     2022-04       5369\n",
       "77497  MT_LMML_UK_EGSS     2022-05       6374\n",
       "77498  MT_LMML_UK_EGSS     2022-06       5743\n",
       "\n",
       "[902 rows x 3 columns]"
      ]
     },
     "execution_count": 28,
     "metadata": {},
     "output_type": "execute_result"
    }
   ],
   "source": [
    "df_flights_monthly.drop(labels=['DATAFLOW','LAST UPDATE','freq','unit','tra_meas','OBS_FLAG'],axis=1,inplace=True)\n",
    "df_flights_monthly"
   ]
  },
  {
   "cell_type": "code",
   "execution_count": 29,
   "id": "fa8144c4-d286-422d-b737-cbd380c0f278",
   "metadata": {},
   "outputs": [
    {
     "data": {
      "text/html": [
       "<div>\n",
       "<style scoped>\n",
       "    .dataframe tbody tr th:only-of-type {\n",
       "        vertical-align: middle;\n",
       "    }\n",
       "\n",
       "    .dataframe tbody tr th {\n",
       "        vertical-align: top;\n",
       "    }\n",
       "\n",
       "    .dataframe thead th {\n",
       "        text-align: right;\n",
       "    }\n",
       "</style>\n",
       "<table border=\"1\" class=\"dataframe\">\n",
       "  <thead>\n",
       "    <tr style=\"text-align: right;\">\n",
       "      <th></th>\n",
       "      <th>route</th>\n",
       "      <th>date</th>\n",
       "      <th>total_passengers</th>\n",
       "    </tr>\n",
       "  </thead>\n",
       "  <tbody>\n",
       "    <tr>\n",
       "      <th>69053</th>\n",
       "      <td>MT_LMML_AE_OMDB</td>\n",
       "      <td>2022-01-01</td>\n",
       "      <td>1779</td>\n",
       "    </tr>\n",
       "    <tr>\n",
       "      <th>69054</th>\n",
       "      <td>MT_LMML_AE_OMDB</td>\n",
       "      <td>2022-02-01</td>\n",
       "      <td>1775</td>\n",
       "    </tr>\n",
       "    <tr>\n",
       "      <th>69055</th>\n",
       "      <td>MT_LMML_AE_OMDB</td>\n",
       "      <td>2022-03-01</td>\n",
       "      <td>2528</td>\n",
       "    </tr>\n",
       "    <tr>\n",
       "      <th>69056</th>\n",
       "      <td>MT_LMML_AE_OMDB</td>\n",
       "      <td>2022-04-01</td>\n",
       "      <td>2612</td>\n",
       "    </tr>\n",
       "    <tr>\n",
       "      <th>69057</th>\n",
       "      <td>MT_LMML_AE_OMDB</td>\n",
       "      <td>2022-05-01</td>\n",
       "      <td>2380</td>\n",
       "    </tr>\n",
       "  </tbody>\n",
       "</table>\n",
       "</div>"
      ],
      "text/plain": [
       "                 route       date  total_passengers\n",
       "69053  MT_LMML_AE_OMDB 2022-01-01              1779\n",
       "69054  MT_LMML_AE_OMDB 2022-02-01              1775\n",
       "69055  MT_LMML_AE_OMDB 2022-03-01              2528\n",
       "69056  MT_LMML_AE_OMDB 2022-04-01              2612\n",
       "69057  MT_LMML_AE_OMDB 2022-05-01              2380"
      ]
     },
     "execution_count": 29,
     "metadata": {},
     "output_type": "execute_result"
    }
   ],
   "source": [
    "df_flights_monthly.columns = ['route','date','total_passengers']\n",
    "df_flights_monthly['date'] = pd.to_datetime(df_flights_monthly['date'],format=\"%Y-%m\") # convert to datetime from 'YYYY-MM' format\n",
    "df_flights_monthly.head()"
   ]
  },
  {
   "cell_type": "markdown",
   "id": "c907634e-582a-4969-b616-55834f93cff6",
   "metadata": {},
   "source": [
    "This leaves us with the monthly sum of passengers per route. A useful metric would be to group the total passengers per month, irrespective of the route."
   ]
  },
  {
   "cell_type": "code",
   "execution_count": 30,
   "id": "2d441622-5c88-417d-8d9a-18e4d5f50a07",
   "metadata": {},
   "outputs": [
    {
     "data": {
      "text/html": [
       "<div>\n",
       "<style scoped>\n",
       "    .dataframe tbody tr th:only-of-type {\n",
       "        vertical-align: middle;\n",
       "    }\n",
       "\n",
       "    .dataframe tbody tr th {\n",
       "        vertical-align: top;\n",
       "    }\n",
       "\n",
       "    .dataframe thead th {\n",
       "        text-align: right;\n",
       "    }\n",
       "</style>\n",
       "<table border=\"1\" class=\"dataframe\">\n",
       "  <thead>\n",
       "    <tr style=\"text-align: right;\">\n",
       "      <th></th>\n",
       "      <th>total_passengers</th>\n",
       "    </tr>\n",
       "    <tr>\n",
       "      <th>date</th>\n",
       "      <th></th>\n",
       "    </tr>\n",
       "  </thead>\n",
       "  <tbody>\n",
       "    <tr>\n",
       "      <th>2020-01-01</th>\n",
       "      <td>112478</td>\n",
       "    </tr>\n",
       "    <tr>\n",
       "      <th>2020-02-01</th>\n",
       "      <td>120242</td>\n",
       "    </tr>\n",
       "    <tr>\n",
       "      <th>2020-03-01</th>\n",
       "      <td>41445</td>\n",
       "    </tr>\n",
       "    <tr>\n",
       "      <th>2020-04-01</th>\n",
       "      <td>629</td>\n",
       "    </tr>\n",
       "    <tr>\n",
       "      <th>2020-05-01</th>\n",
       "      <td>351</td>\n",
       "    </tr>\n",
       "    <tr>\n",
       "      <th>2020-06-01</th>\n",
       "      <td>778</td>\n",
       "    </tr>\n",
       "    <tr>\n",
       "      <th>2020-07-01</th>\n",
       "      <td>52268</td>\n",
       "    </tr>\n",
       "    <tr>\n",
       "      <th>2020-08-01</th>\n",
       "      <td>73473</td>\n",
       "    </tr>\n",
       "    <tr>\n",
       "      <th>2020-09-01</th>\n",
       "      <td>39323</td>\n",
       "    </tr>\n",
       "    <tr>\n",
       "      <th>2020-10-01</th>\n",
       "      <td>35259</td>\n",
       "    </tr>\n",
       "    <tr>\n",
       "      <th>2020-11-01</th>\n",
       "      <td>15165</td>\n",
       "    </tr>\n",
       "    <tr>\n",
       "      <th>2020-12-01</th>\n",
       "      <td>17578</td>\n",
       "    </tr>\n",
       "  </tbody>\n",
       "</table>\n",
       "</div>"
      ],
      "text/plain": [
       "            total_passengers\n",
       "date                        \n",
       "2020-01-01            112478\n",
       "2020-02-01            120242\n",
       "2020-03-01             41445\n",
       "2020-04-01               629\n",
       "2020-05-01               351\n",
       "2020-06-01               778\n",
       "2020-07-01             52268\n",
       "2020-08-01             73473\n",
       "2020-09-01             39323\n",
       "2020-10-01             35259\n",
       "2020-11-01             15165\n",
       "2020-12-01             17578"
      ]
     },
     "execution_count": 30,
     "metadata": {},
     "output_type": "execute_result"
    }
   ],
   "source": [
    "df_monthly_passengers = df_flights_monthly.groupby('date').sum(numeric_only = True) # get the monthly sum of inbound passengers\n",
    "df_monthly_passengers.head(12)"
   ]
  },
  {
   "cell_type": "markdown",
   "id": "b1f3247a",
   "metadata": {},
   "source": [
    "## Exploratory Data Analysis\n",
    "\n",
    "Given the number and nature of our datasets, we are able to perform multiple types of analysis on the data. Within each separate dataset, we can perform univariate analysis and multivariate analysis. We can also perform multivariate analysis on a combination of the datasets. \n",
    "\n",
    "### Univariate Analysis"
   ]
  },
  {
   "cell_type": "code",
   "execution_count": 31,
   "id": "b17b9840-a40a-4c0d-94e8-087a53baadd4",
   "metadata": {},
   "outputs": [
    {
     "name": "stdout",
     "output_type": "stream",
     "text": [
      "Date\n"
     ]
    }
   ],
   "source": [
    "x = 'date'\n",
    "y = x.replace('_',' ').title()\n",
    "print(y)"
   ]
  },
  {
   "cell_type": "code",
   "execution_count": 47,
   "id": "c9d6abf8-d588-4df3-bf28-fbff85749051",
   "metadata": {},
   "outputs": [],
   "source": [
    "def plot_helper(graph_type,df,x_key,y_key=''):\n",
    "    sns.set_style(\"whitegrid\")\n",
    "    x_lbl = x_key.replace('_',' ').title() \n",
    "    y_lbl = y_key.replace('_',' ').title() \n",
    "    fig,ax = plt.subplots(figsize=(10,6))\n",
    "    if graph_type == \"line\":\n",
    "        graph = sns.lineplot(data=df,x=x_key,y=y_key,ax=ax)\n",
    "    elif graph_type == \"hist\":\n",
    "        graph = sns.histplot(data=df,x=x_key)\n",
    "    graph.axes.set_title(f'{y_lbl} vs {x_lbl}',fontsize=14)\n",
    "    graph.set_xlabel(x_lbl,fontsize=10)\n",
    "    graph.set_ylabel(y_lbl,fontsize=10)"
   ]
  },
  {
   "cell_type": "code",
   "execution_count": 34,
   "id": "e8e66778-5963-466e-9ef8-93bffdda64bd",
   "metadata": {},
   "outputs": [
    {
     "data": {
      "text/html": [
       "<div>\n",
       "<style scoped>\n",
       "    .dataframe tbody tr th:only-of-type {\n",
       "        vertical-align: middle;\n",
       "    }\n",
       "\n",
       "    .dataframe tbody tr th {\n",
       "        vertical-align: top;\n",
       "    }\n",
       "\n",
       "    .dataframe thead th {\n",
       "        text-align: right;\n",
       "    }\n",
       "</style>\n",
       "<table border=\"1\" class=\"dataframe\">\n",
       "  <thead>\n",
       "    <tr style=\"text-align: right;\">\n",
       "      <th></th>\n",
       "      <th>new_cases</th>\n",
       "      <th>total_cases</th>\n",
       "      <th>recovered</th>\n",
       "      <th>deaths</th>\n",
       "      <th>active_cases</th>\n",
       "    </tr>\n",
       "  </thead>\n",
       "  <tbody>\n",
       "    <tr>\n",
       "      <th>count</th>\n",
       "      <td>1026.000000</td>\n",
       "      <td>1026.000000</td>\n",
       "      <td>1026.000000</td>\n",
       "      <td>1026.000000</td>\n",
       "      <td>1026.000000</td>\n",
       "    </tr>\n",
       "    <tr>\n",
       "      <th>mean</th>\n",
       "      <td>113.409357</td>\n",
       "      <td>46227.762183</td>\n",
       "      <td>44018.139376</td>\n",
       "      <td>406.580897</td>\n",
       "      <td>1601.859649</td>\n",
       "    </tr>\n",
       "    <tr>\n",
       "      <th>std</th>\n",
       "      <td>176.474206</td>\n",
       "      <td>41196.286026</td>\n",
       "      <td>40296.635559</td>\n",
       "      <td>282.651774</td>\n",
       "      <td>2372.370059</td>\n",
       "    </tr>\n",
       "    <tr>\n",
       "      <th>min</th>\n",
       "      <td>0.000000</td>\n",
       "      <td>1.000000</td>\n",
       "      <td>0.000000</td>\n",
       "      <td>0.000000</td>\n",
       "      <td>1.000000</td>\n",
       "    </tr>\n",
       "    <tr>\n",
       "      <th>25%</th>\n",
       "      <td>15.000000</td>\n",
       "      <td>8290.250000</td>\n",
       "      <td>6082.750000</td>\n",
       "      <td>101.500000</td>\n",
       "      <td>222.500000</td>\n",
       "    </tr>\n",
       "    <tr>\n",
       "      <th>50%</th>\n",
       "      <td>51.000000</td>\n",
       "      <td>34335.000000</td>\n",
       "      <td>31736.000000</td>\n",
       "      <td>423.000000</td>\n",
       "      <td>652.000000</td>\n",
       "    </tr>\n",
       "    <tr>\n",
       "      <th>75%</th>\n",
       "      <td>135.750000</td>\n",
       "      <td>87764.250000</td>\n",
       "      <td>78218.000000</td>\n",
       "      <td>670.500000</td>\n",
       "      <td>2080.500000</td>\n",
       "    </tr>\n",
       "    <tr>\n",
       "      <th>max</th>\n",
       "      <td>1403.000000</td>\n",
       "      <td>116253.000000</td>\n",
       "      <td>114773.000000</td>\n",
       "      <td>813.000000</td>\n",
       "      <td>15065.000000</td>\n",
       "    </tr>\n",
       "  </tbody>\n",
       "</table>\n",
       "</div>"
      ],
      "text/plain": [
       "         new_cases    total_cases      recovered       deaths  active_cases\n",
       "count  1026.000000    1026.000000    1026.000000  1026.000000   1026.000000\n",
       "mean    113.409357   46227.762183   44018.139376   406.580897   1601.859649\n",
       "std     176.474206   41196.286026   40296.635559   282.651774   2372.370059\n",
       "min       0.000000       1.000000       0.000000     0.000000      1.000000\n",
       "25%      15.000000    8290.250000    6082.750000   101.500000    222.500000\n",
       "50%      51.000000   34335.000000   31736.000000   423.000000    652.000000\n",
       "75%     135.750000   87764.250000   78218.000000   670.500000   2080.500000\n",
       "max    1403.000000  116253.000000  114773.000000   813.000000  15065.000000"
      ]
     },
     "execution_count": 34,
     "metadata": {},
     "output_type": "execute_result"
    }
   ],
   "source": [
    "df_covid_agg.describe()"
   ]
  },
  {
   "cell_type": "code",
   "execution_count": 48,
   "id": "44fb86ae-babf-4046-bf8d-23c58d8223b5",
   "metadata": {},
   "outputs": [
    {
     "data": {
      "image/png": "[encoded data removed]",
      "text/plain": [
       "<Figure size 1000x600 with 1 Axes>"
      ]
     },
     "metadata": {},
     "output_type": "display_data"
    }
   ],
   "source": [
    "plot_helper('line',df_covid_agg,'date','total_cases')"
   ]
  },
  {
   "cell_type": "code",
   "execution_count": 49,
   "id": "419b9c16-e8af-4b7b-ab3f-383a30a7a198",
   "metadata": {},
   "outputs": [
    {
     "data": {
      "image/png": "[encoded data removed]",
      "text/plain": [
       "<Figure size 1000x600 with 1 Axes>"
      ]
     },
     "metadata": {},
     "output_type": "display_data"
    }
   ],
   "source": [
    "plot_helper('line',df_covid_agg,'date','new_cases')"
   ]
  },
  {
   "cell_type": "code",
   "execution_count": 45,
   "id": "6539abe5-7580-423b-bbf6-1fe0c3ffc999",
   "metadata": {},
   "outputs": [
    {
     "data": {
      "image/png": "[encoded data removed]",
      "text/plain": [
       "<Figure size 800x600 with 1 Axes>"
      ]
     },
     "metadata": {},
     "output_type": "display_data"
    }
   ],
   "source": [
    "plot_helper('line',df_covid_agg,'date','active_cases')"
   ]
  },
  {
   "cell_type": "code",
   "execution_count": 50,
   "id": "4847d597-e9e5-45a2-a063-1b541fb0347e",
   "metadata": {},
   "outputs": [
    {
     "data": {
      "image/png": "[encoded data removed]",
      "text/plain": [
       "<Figure size 1000x600 with 1 Axes>"
      ]
     },
     "metadata": {},
     "output_type": "display_data"
    }
   ],
   "source": [
    "plot_helper('line',df_monthly_passengers,'date','total_passengers')"
   ]
  }
 ],
 "metadata": {
  "kernelspec": {
   "display_name": "Python 3 (ipykernel)",
   "language": "python",
   "name": "python3"
  },
  "language_info": {
   "codemirror_mode": {
    "name": "ipython",
    "version": 3
   },
   "file_extension": ".py",
   "mimetype": "text/x-python",
   "name": "python",
   "nbconvert_exporter": "python",
   "pygments_lexer": "ipython3",
   "version": "3.10.6"
  },
  "vscode": {
   "interpreter": {
    "hash": "0ff89783d3690838656ee6d610b6e07484558892a6bd03491a5ce848e02089b0"
   }
  }
 },
 "nbformat": 4,
 "nbformat_minor": 5
}
